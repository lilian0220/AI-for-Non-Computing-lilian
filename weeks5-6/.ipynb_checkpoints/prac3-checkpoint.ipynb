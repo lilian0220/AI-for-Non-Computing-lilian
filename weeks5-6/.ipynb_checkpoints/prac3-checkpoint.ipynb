{
 "cells": [
  {
   "cell_type": "markdown",
   "metadata": {},
   "source": [
    "# Introduction to Artificial Intelligence for Non Computing"
   ]
  },
  {
   "cell_type": "markdown",
   "metadata": {},
   "source": [
    "## Practical 3 (weeks 5 - 6)"
   ]
  },
  {
   "cell_type": "markdown",
   "metadata": {},
   "source": [
    "The following links provide additional information about data analysis , machine learning and Numpy"
   ]
  },
  {
   "cell_type": "markdown",
   "metadata": {},
   "source": [
    "Python data analysis: https://www.imooc.com/learn/843\n",
    "machine learning: https://www.imooc.com/learn/717\n",
    "Numpy :https://www.imooc.com/learn/943"
   ]
  },
  {
   "cell_type": "markdown",
   "metadata": {},
   "source": [
    "#### Theory Questions"
   ]
  },
  {
   "cell_type": "markdown",
   "metadata": {},
   "source": [
    "1\\.Which of the following are true and which are false? Give brief explanations.\n",
    "- a. In a fully observable, turn-taking, zero-sum game between two perfectly rational players,it does not help the first player to know what strategy the second player is using—that is, what move the second player will make, given the first player's move.\n",
    "- b. In a partially observable, turn-taking, zero-sum game between two perfectly rational players, it does not help the first player to know what move the second player will make, given the first player's move.\n",
    "- c. A perfectly rational backgammon agent never loses.\n",
    "\n",
    "See textbook Chapter6 24.6"
   ]
  },
  {
   "cell_type": "markdown",
   "metadata": {},
   "source": [
    "_your answer here..._ \n",
    "\n",
    "***\n",
    "a:True.The second player will play the game in the best way, so the relationship can be predicted perfectly. Knowing which of the two equally good moves the opponent will not change the value of the game to the first player.\n",
    "\n",
    "b:False. In a partially observable game, it is known that the second player moves to tell the first player additional information about the state of the game, otherwise the information will only be available to the second player.\n",
    "\n",
    "c:False. Backgammon is a chance game, and opponents may continue to launch better dice. The correct argument is that the expected bonus is the best."
   ]
  },
  {
   "cell_type": "markdown",
   "metadata": {},
   "source": [
    "2\\.Define in your own words the terms constraint, backtracking search, arc consistency,backjumping, min-conflicts, and cycle cutset.\n",
    "\n",
    "See textbook Chapter6 6.16"
   ]
  },
  {
   "cell_type": "markdown",
   "metadata": {},
   "source": [
    "_your answer here..._ \n",
    "\n",
    "***\n",
    "Constraints: A constraint is a limit on the possible values of two or more variables.\n",
    "\n",
    "Backtracking search: Backtracking search is a depth-first search (DFS). For a search tree (search tree is the role of record path and state judgment), backtracking and DFS, the main difference is that the backtracking method is not in the solution process. The complete tree structure is preserved, while the depth-first search records the complete search tree.\n",
    "\n",
    "Arc Consistency: If there is some consistent B value for each value in A's current domain, the directed arc from variable A to variable B in the CSP is arc-consistent.\n",
    "\n",
    "Jumpback: Jumpback is a way to make backtracking search more efficient by jumping back to multiple levels while reaching Deadlock.\n",
    "\n",
    "Heuristics indicate that when given a variable to be modified, choose a value that conflicts with the least number of other variables.\n",
    "\n",
    "Loop Cut Set: A loop cut set is a set of variables that become acyclic (ie, tree) when removed from a constraint map. When instantiating a loop group variable, you can solve the rest of the CSP with linear ti"
   ]
  },
  {
   "cell_type": "markdown",
   "metadata": {},
   "source": [
    "3\\.Explain why it is a good heuristic to choose the variable that is most constrained but the value that is least constraining in a CSP search.\n",
    "\n",
    "See textbook Chapter6 6.9"
   ]
  },
  {
   "cell_type": "markdown",
   "metadata": {},
   "source": [
    "_your answer here..._ \n",
    "\n",
    "***\n",
    "The most constrained variable makes sense because it chooses a variable that can cause failure (all other conditions are the same) and it is more efficient to fail as early as possible (thus pruning most of the search space). The least limit value heuristic is meaningful because it allows the greatest opportunity for future allocations to avoid conflicts."
   ]
  },
  {
   "cell_type": "markdown",
   "metadata": {},
   "source": [
    "4\\.Consider the following procedure for choosing moves in games with chance nodes: \n",
    "- 1、Generate some dice-roll sequences (say, 50) down to a suitable depth (say, 8).\n",
    "- 2、With known dice rolls, the game tree becomes deterministic. For each dice-roll sequence,solve the resulting deterministic game tree using alpha-beta.\n",
    "- 3、Use the results to estimate the value of each move and to choose the best.Will this procedure work well? Why (or why not)?\n",
    "\n",
    "See textbook Chapter5 5.19"
   ]
  },
  {
   "cell_type": "markdown",
   "metadata": {},
   "source": [
    "_your answer here..._ \n",
    "***\n",
    "This process will give incorrect results. Mathematically, the program is equivalent to assuming a commute between the mean and the minimum and maximum values, but it does not. Rather, the choices made by each player in the deterministic tree are based on a comprehensive understanding of future dice volumes and are not necessary for the movements made. There is no such knowledge.\n"
   ]
  },
  {
   "cell_type": "markdown",
   "metadata": {},
   "source": [
    "5\\. Now,please consider this game:  there are three plates A, B and C, each plate has three bills. A puts 1, 20, 50; B puts 5, 10, 100; C puts 1, 5, 20. All units are \"Yuan\". There are two persons A and B, and two of them can check out three plates and banknotes .（ A is ourself, The other is B）\n",
    "The game is divided into three steps: \n",
    "- 1、A select a plate from three plate.\n",
    "- 2、B take out two banknotes from A selected plate,and give the  banknotes to A.  \n",
    "- 3、A take one of the two banknotes, and take it away.among,A want to get the max banknotes, B want to let A to get the min.\n",
    "\n",
    "Try to understand the minimax algorithm，you can click the link:https://blog.csdn.net/tangchenyi/article/details/22920031"
   ]
  },
  {
   "cell_type": "markdown",
   "metadata": {},
   "source": [
    "_your answer here..._ \n",
    "\n",
    "***"
   ]
  },
  {
   "cell_type": "markdown",
   "metadata": {},
   "source": [
    "### Programming Excercises"
   ]
  },
  {
   "cell_type": "markdown",
   "metadata": {},
   "source": [
    "1\\. Guess number(Single number): please generate a randomly number  with the function (random), then ask someone to guess the number,I think we should give the corresponding hint, otherwise it will be very difficult to guess the number.the game will be over untill you get the right number."
   ]
  },
  {
   "cell_type": "code",
   "execution_count": 7,
   "metadata": {},
   "outputs": [
    {
     "name": "stdout",
     "output_type": "stream",
     "text": [
      "enter your guess number：50\n",
      "too small\n",
      "enter your guess number：70\n",
      "too small\n",
      "enter your guess number：80\n",
      "too small\n",
      "enter your guess number：90\n",
      "too big\n",
      "enter your guess number：87\n",
      "too big\n",
      "enter your guess number：85\n",
      "too big\n",
      "enter your guess number：83\n",
      "too small\n",
      "enter your guess number：84\n",
      "bingo\n"
     ]
    }
   ],
   "source": [
    "## write your answer here!\n",
    "import random\n",
    "#import input\n",
    "\n",
    "number = random.randint(0,100)\n",
    "guess = int(input(\"enter your guess number：\"))\n",
    "while guess != number:\n",
    "    if guess > number :\n",
    "        print(\"too big\")\n",
    "    elif guess < number:\n",
    "        print(\"too small\")\n",
    "    guess = int(input(\"enter your guess number：\"))\n",
    "if guess == number:\n",
    "    print(\"bingo\")"
   ]
  },
  {
   "cell_type": "markdown",
   "metadata": {},
   "source": [
    "2\\.if you had understand the guess single number games,Congratulates,next is the guess three number games,Maybe you can do it well.But this is a different way of thinking. \n",
    "first : we need generate three numbers,there are most ten times chances give  you to guess the number,of course,we also give you some cue.\n",
    "\n",
    "- 'When I say:-->It means:\n",
    "- 'error--> The 3 numbers are not in the mystical numbers.'\n",
    "- 'Only the number is correct --> the number is right , but the position is not right.'\n",
    "- 'Absolutely right--> numbers is right and the position also right.'\n",
    "\n",
    "Maybe it's better for you to understand the rule well through see the picture.\n",
    "<div style=\"float:left;\" ><img src=\"img/p1.png\" width=\"400\" height=\"300\" >"
   ]
  },
  {
   "cell_type": "code",
   "execution_count": 6,
   "metadata": {},
   "outputs": [
    {
     "name": "stdout",
     "output_type": "stream",
     "text": [
      "enter your guess number：768\n",
      "['error', 'error', 'only the number is correct']\n",
      "enter your guess number：854\n",
      "['absolutely right', 'error', 'error']\n",
      "enter your guess number：832\n",
      "['absolutely right', 'absolutely right', 'error']\n",
      "enter your guess number：831\n",
      "['absolutely right', 'absolutely right', 'error']\n",
      "enter your guess number：839\n",
      "['absolutely right', 'absolutely right', 'error']\n",
      "enter your guess number：830\n",
      "['absolutely right', 'absolutely right', 'error']\n",
      "enter your guess number：838\n",
      "['absolutely right', 'absolutely right', 'only the number is correct']\n",
      "enter your guess number：833\n",
      "['congratulations!']\n"
     ]
    }
   ],
   "source": [
    "## write your answer here!\n",
    "import random\n",
    "\n",
    "number1 = str(random.randint(100,1000))\n",
    "number = list(number1)\n",
    "guess1 = input(\"enter your guess number：\")\n",
    "guess = list(guess1)\n",
    "outcome = []\n",
    "#print(number)\n",
    "for i in range(0,10):\n",
    "    if guess[0] == number[0]:\n",
    "        outcome.append('absolutely right')\n",
    "    elif guess[0] == number[1] or guess[0] == number[2]:\n",
    "        outcome.append('only the number is correct')\n",
    "    else:\n",
    "        outcome.append('error')\n",
    "    if guess[1] == number[1]:\n",
    "        outcome.append('absolutely right')\n",
    "    elif guess[1] == number[0] or guess[1] == number[2]:\n",
    "        outcome.append('only the number is correct')\n",
    "    else:\n",
    "        outcome.append('error')\n",
    "    if guess[2] == number[2]:\n",
    "        outcome.append('absolutely right')\n",
    "    elif guess[2] == number[0] or guess[2] == number[1]:\n",
    "        outcome.append('only the number is correct')\n",
    "    else:\n",
    "        outcome.append('error')\n",
    "    if number[0] == guess[0] and guess[1] == number[1] and number[2] == guess[2]:\n",
    "        outcome = []\n",
    "        outcome.append(\"congratulations!\")\n",
    "        print(outcome)\n",
    "        break\n",
    "    print(outcome)\n",
    "    outcome = []\n",
    "    guess = input(\"enter your guess number：\")   \n",
    "\n",
    "\n",
    "\n",
    "\n"
   ]
  },
  {
   "cell_type": "markdown",
   "metadata": {},
   "source": [
    "3\\.please try using Python's Tkinter to make a visual interface（GUI）.if you don't know anything.Maybe you can refer to the below interface.and implement it by code.\n",
    "\n",
    "<div style=\"float:left;\" ><img src=\"img/p2.png\" width=\"200\" height=\"200\" >"
   ]
  },
  {
   "cell_type": "code",
   "execution_count": 7,
   "metadata": {},
   "outputs": [],
   "source": [
    "## write your answer here!\n",
    "\n",
    "from tkinter import *\n",
    "root = Tk()                     \n",
    "\n",
    "li     = ['C','python','php','html','SQL','java']\n",
    "movie  = ['CSS','jQuery','Bootstrap']\n",
    "listb  = Listbox(root)          \n",
    "listb2 = Listbox(root)\n",
    "for item in li:                 \n",
    "    listb.insert(0,item)\n",
    " \n",
    "for item in movie:              \n",
    "    listb2.insert(0,item)\n",
    " \n",
    "listb.pack()                    \n",
    "listb2.pack()\n",
    "root.mainloop()                 \n"
   ]
  },
  {
   "cell_type": "markdown",
   "metadata": {},
   "source": [
    "4\\.Through the initial trial of Tkinter,    please write a simple calculator.\n",
    "\n",
    "<div style=\"float:left;\" ><img src=\"img/p3.png\" width=\"180\" height=\"200\" center=\"left\"></div>\n",
    "<div style=\"float:left;\" ><img src=\"img/p4.png\" width=\"180\" height=\"200\" center=\"right\" ></div>"
   ]
  },
  {
   "cell_type": "code",
   "execution_count": 9,
   "metadata": {},
   "outputs": [],
   "source": [
    "## write your answer here!\n",
    "from tkinter import *\n",
    " \n",
    "\n",
    "def frame(root, side):\n",
    "    w = Frame(root)\n",
    "    w.pack(side = side, expand = YES, fill = BOTH)\n",
    "    return w\n",
    "\n",
    "def button(root, side, text, command = None):\n",
    "    w = Button(root, text = text, command = command)\n",
    "    w.pack(side = side, expand = YES, fill = BOTH)\n",
    "    return w\n",
    "\n",
    "class Calculator(Frame):\n",
    "    def __init__(self):\n",
    "        \n",
    "        Frame.__init__(self)\n",
    "        \n",
    "        self.pack(expand = YES, fill = BOTH)\n",
    "        self.master.title('Simple Calculater')\n",
    "        \n",
    "        display = StringVar()\n",
    "        #添加输入框\n",
    "        Entry(self, relief = SUNKEN,\n",
    "              textvariable = display).pack(side = TOP, expand = YES,\n",
    "                                           fill = BOTH)\n",
    "        \n",
    "        for key in('1234', '5678', '.90='):\n",
    "            keyF = frame(self, TOP)\n",
    "            for char in key:\n",
    "                if char == '=':\n",
    "                    btn = button(keyF, LEFT, char)\n",
    "                    btn.bind('<ButtonRelease - 1>', lambda e, s = self, w = display:s.calc(w), '+')\n",
    "                else:\n",
    "                    button(keyF, LEFT, char, lambda w = display, c = char:w.set(w.get() + c))\n",
    "\n",
    "\n",
    "        opsF = frame(self, TOP)\n",
    "        for char in '+-*/':\n",
    "            btn = button(opsF, LEFT, char, lambda w = display, s = '%s' %char:w.set(w.get() + s))\n",
    "\n",
    "        clearF = frame(self, BOTTOM)\n",
    "        button(clearF, LEFT, 'clear', lambda w = display:w.set(''))\n",
    " \n",
    "    def calc(self, display):\n",
    "        try:\n",
    "            display.set(eval(display.get()))\n",
    "        except:\n",
    "            display.set(\"ERROR\")\n",
    "\n",
    "if __name__ == '__main__':\n",
    "    \n",
    "    Calculator().mainloop()\n",
    "        "
   ]
  },
  {
   "cell_type": "markdown",
   "metadata": {},
   "source": [
    "5\\.Ball game:Python's pinball game, which can realize the game function of the keyboard control bottom baffle moving collision ball similar to table tennis game. \n",
    "\n",
    "<div style=\"float:left;\" ><img src=\"img/p5.png\" width=\"200\" height=\"200\" center=\"left\"></div>\n",
    "<div style=\"float:left;\" ><img src=\"img/p6.png\" width=\"200\" height=\"200\" center=\"right\" ></div>\n"
   ]
  },
  {
   "cell_type": "markdown",
   "metadata": {},
   "source": [
    "this is a step:how to install the matplotlib,you can reference this link:https://blog.csdn.net/not_give_up_/article/details/79058272\n",
    "1. Ball Class\n",
    "    draw is responsible for moving Ball\n",
    "    Collision detection, bounce, Ball detection of Paddle \n",
    "2. Paddle Class\n",
    "    draw is responsible for moving Paddle\n",
    "    Collision detection to determine whether or not to continue ,Monitor keyboard events\n",
    "3. main cycle\n",
    "    Drawing the Ball and Paddle"
   ]
  },
  {
   "cell_type": "code",
   "execution_count": 1,
   "metadata": {},
   "outputs": [],
   "source": [
    "## write your answer here!\n",
    "from tkinter import *\n",
    "import matplotlib\n",
    "matplotlib.use('Agg')\n",
    "import random\n",
    "import time\n",
    "class Ball:\n",
    "  def __init__(self, canvas, paddle, color):\n",
    "    self.canvas = canvas\n",
    "    self.paddle = paddle\n",
    "    self.id = canvas.create_oval(10, 10, 25, 25, fill=color)\n",
    "    self.canvas.move(self.id, 245, 100)\n",
    "    startx = [-3, -2, -1, 1, 2, 3]\n",
    "    random.shuffle(startx)\n",
    "    self.x = startx[0]\n",
    "    self.y = -3\n",
    "    self.canvas_height = self.canvas.winfo_height()\n",
    "    self.canvas_width = self.canvas.winfo_width()\n",
    "    self.hit_bottom = False\n",
    "  def draw(self):\n",
    "    self.canvas.move(self.id, self.x, self.y)\n",
    "    pos = self.canvas.coords(self.id)#top-left bottom-right\n",
    "    if (pos[1] <= 0 or self.hit_paddle(pos) == True):\n",
    "      self.y = -self.y\n",
    "    if (pos[0] <= 0 or pos[2] >= self.canvas_width):\n",
    "      self.x = -self.x\n",
    "    if (pos[3] >= self.canvas_height):\n",
    "      self.hit_bottom = True\n",
    "  def hit_paddle(self, pos):\n",
    "    paddle_pos = self.canvas.coords(self.paddle.id)\n",
    "    if (pos[2] >= paddle_pos[0] and pos[0] <= paddle_pos[2]):\n",
    "      if (pos[3] >= paddle_pos[1] and pos[3] <= paddle_pos[3]):\n",
    "        return True\n",
    "    return False\n",
    "class Paddle:\n",
    "  def __init__(self, canvas, color):\n",
    "    self.canvas = canvas\n",
    "    self.id = canvas.create_rectangle(0, 0, 100, 10, fill = color)\n",
    "    self.x = 0\n",
    "    self.canvas.move(self.id, 200, 300)\n",
    "    self.canvas_width = self.canvas.winfo_width()\n",
    "    self.canvas.bind_all(\"<Key-Left>\", self.turn_left)\n",
    "    self.canvas.bind_all(\"<Key-Right>\", self.turn_right)\n",
    "  def draw(self):\n",
    "    pos = self.canvas.coords(self.id)\n",
    "    if (pos[0] + self.x >= 0 and pos[2] + self.x <= self.canvas_width):\n",
    "      self.canvas.move(self.id, self.x, 0)\n",
    "    #self.x = 0\n",
    "  def turn_left(self, event):\n",
    "    self.x = -4\n",
    "  def turn_right(self, event):\n",
    "    self.x = 4\n",
    "tk = Tk()\n",
    "tk.title(\"Game\")\n",
    "tk.resizable(0, 0)#not resizable\n",
    "tk.wm_attributes(\"-topmost\", 1)#at top\n",
    "canvas = Canvas(tk, width = 500, height = 500, bd = 0, highlightthickness = 0)\n",
    "canvas.pack()\n",
    "tk.update()#init\n",
    "paddle = Paddle(canvas, 'blue')\n",
    "ball = Ball(canvas, paddle, 'red')\n",
    "while 1:\n",
    "  if (ball.hit_bottom == False ):\n",
    "    ball.draw()\n",
    "    paddle.draw()\n",
    "\n",
    "  else:\n",
    "    break\n",
    "  tk.update_idletasks()\n",
    "  tk.update()\n",
    "  time.sleep(0.01)\n",
    "\n",
    "\n",
    "\n"
   ]
  },
  {
   "cell_type": "code",
   "execution_count": null,
   "metadata": {},
   "outputs": [],
   "source": []
  }
 ],
 "metadata": {
  "kernelspec": {
   "display_name": "Python 3",
   "language": "python",
   "name": "python3"
  },
  "language_info": {
   "codemirror_mode": {
    "name": "ipython",
    "version": 3
   },
   "file_extension": ".py",
   "mimetype": "text/x-python",
   "name": "python",
   "nbconvert_exporter": "python",
   "pygments_lexer": "ipython3",
   "version": "3.6.5"
  }
 },
 "nbformat": 4,
 "nbformat_minor": 2
}
