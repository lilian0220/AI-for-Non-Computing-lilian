{
 "cells": [
  {
   "cell_type": "code",
   "execution_count": 2,
   "metadata": {},
   "outputs": [
    {
     "name": "stdout",
     "output_type": "stream",
     "text": [
      "I found it!\n",
      "['apple', 'banana', 'orange', 'pear', 'pineapple', 'lichi', 'kiwi']\n",
      "apple has 5 letter \n",
      "\n",
      "banana has 6 letter \n",
      "\n",
      "orange has 6 letter \n",
      "\n",
      "pear has 4 letter \n",
      "\n",
      "pineapple has 9 letter \n",
      "\n",
      "lichi has 5 letter \n",
      "\n",
      "kiwi has 4 letter \n",
      "\n"
     ]
    }
   ],
   "source": [
    "list = ['apple','banana','orange','pear','pineapple']\n",
    "for i in list:\n",
    "    if i == 'apple':\n",
    "        print(\"I found it!\")\n",
    "\n",
    "list.append('lichi')\n",
    "list.append('kiwi')\n",
    " \n",
    "print (list)\n",
    "\n",
    "new_list = []\n",
    "for i in list:\n",
    "    Length = len(i)\n",
    "    new_list.append(Length)\n",
    "    print (\"%s has %s letter \\n\"%(i , Length))"
   ]
  },
  {
   "cell_type": "code",
   "execution_count": 3,
   "metadata": {},
   "outputs": [
    {
     "name": "stdout",
     "output_type": "stream",
     "text": [
      "True\n"
     ]
    }
   ],
   "source": [
    "def half_squared(list):\n",
    "    new_list=[]\n",
    "    for j in list:\n",
    "        k = j*j\n",
    "        m = k/2\n",
    "        new_list.append(m)\n",
    "    return new_list\n",
    "\n",
    "if half_squared([3,3]) == [4.5,4.5]:\n",
    "    print (\"True\")\n",
    "else:\n",
    "    print(\"False\")"
   ]
  },
  {
   "cell_type": "code",
   "execution_count": 4,
   "metadata": {},
   "outputs": [
    {
     "name": "stdout",
     "output_type": "stream",
     "text": [
      "input student's score: 54\n",
      "C\n"
     ]
    }
   ],
   "source": [
    "a = int(input(\"input student's score: \"))\n",
    "if(100>= a >= 90):\n",
    "    print(\"A\")\n",
    "elif (89>a>=60):\n",
    "    print(\"B\")\n",
    "elif(60>a>=0):\n",
    "    print(\"C\")\n",
    "else:\n",
    "    print(\"Please enter the right score between 0~100\")"
   ]
  },
  {
   "cell_type": "code",
   "execution_count": 5,
   "metadata": {},
   "outputs": [
    {
     "name": "stdout",
     "output_type": "stream",
     "text": [
      "[32, 12, 4]\n"
     ]
    }
   ],
   "source": [
    "def sort(list):\n",
    "\n",
    "    list.sort(reverse = True)\n",
    "    return list\n",
    "\n",
    "print (sort([12,32,4]))"
   ]
  },
  {
   "cell_type": "code",
   "execution_count": 6,
   "metadata": {},
   "outputs": [
    {
     "name": "stdout",
     "output_type": "stream",
     "text": [
      "[[1, 2, 3], [4, 5, 6]]\n",
      "[1, 2, 3, 4, 5, 6]\n"
     ]
    }
   ],
   "source": [
    "list1 = [1,2,3]\n",
    "list2 = [4,5,6]\n",
    "array = [list1,list2]\n",
    "array_new= []\n",
    "print(array)\n",
    "\n",
    "[array_new.extend(i) for i in array]  \n",
    "print(array_new)"
   ]
  },
  {
   "cell_type": "code",
   "execution_count": 54,
   "metadata": {},
   "outputs": [
    {
     "ename": "TypeError",
     "evalue": "'list' object is not callable",
     "output_type": "error",
     "traceback": [
      "\u001b[0;31m---------------------------------------------------------------------------\u001b[0m",
      "\u001b[0;31mTypeError\u001b[0m                                 Traceback (most recent call last)",
      "\u001b[0;32m<ipython-input-54-b6eac1031f28>\u001b[0m in \u001b[0;36m<module>\u001b[0;34m()\u001b[0m\n\u001b[1;32m      3\u001b[0m         \u001b[0mq\u001b[0m\u001b[0;34m=\u001b[0m\u001b[0ml\u001b[0m\u001b[0;34m**\u001b[0m\u001b[0;36m3\u001b[0m\u001b[0;34m\u001b[0m\u001b[0m\n\u001b[1;32m      4\u001b[0m         \u001b[0ma\u001b[0m \u001b[0;34m=\u001b[0m \u001b[0mstr\u001b[0m\u001b[0;34m(\u001b[0m\u001b[0mq\u001b[0m\u001b[0;34m)\u001b[0m\u001b[0;34m\u001b[0m\u001b[0m\n\u001b[0;32m----> 5\u001b[0;31m         \u001b[0mb\u001b[0m \u001b[0;34m=\u001b[0m \u001b[0mlist\u001b[0m\u001b[0;34m(\u001b[0m\u001b[0ma\u001b[0m\u001b[0;34m)\u001b[0m\u001b[0;34m\u001b[0m\u001b[0m\n\u001b[0m\u001b[1;32m      6\u001b[0m         \u001b[0msum\u001b[0m \u001b[0;34m=\u001b[0m \u001b[0;36m0\u001b[0m\u001b[0;34m\u001b[0m\u001b[0m\n\u001b[1;32m      7\u001b[0m         \u001b[0;32mfor\u001b[0m \u001b[0mj\u001b[0m \u001b[0;32min\u001b[0m \u001b[0mrange\u001b[0m\u001b[0;34m(\u001b[0m\u001b[0;36m0\u001b[0m\u001b[0;34m,\u001b[0m\u001b[0mlen\u001b[0m\u001b[0;34m(\u001b[0m\u001b[0mb\u001b[0m\u001b[0;34m)\u001b[0m\u001b[0;34m)\u001b[0m\u001b[0;34m:\u001b[0m\u001b[0;34m\u001b[0m\u001b[0m\n",
      "\u001b[0;31mTypeError\u001b[0m: 'list' object is not callable"
     ]
    }
   ],
   "source": [
    "a = []\n",
    "for l in range(1,101):\n",
    "    a.append(l)\n",
    "    \n",
    "def f(x):\n",
    "    q=x**3\n",
    "    a = str(q)\n",
    "    b = list(a)\n",
    "    sum = 0\n",
    "    for j in range(0,len(b)):\n",
    "        b[j] = int(b[j])\n",
    "        sum = b[j]+sum\n",
    "    if sum == x:\n",
    "        return(sum)\n",
    "\n",
    "\n",
    "for i in map(f,a):\n",
    "    if i != None:\n",
    "        print(i) \n",
    "##在python3内可运行"
   ]
  },
  {
   "cell_type": "code",
   "execution_count": 13,
   "metadata": {},
   "outputs": [
    {
     "name": "stdout",
     "output_type": "stream",
     "text": [
      "8.546384600795427 8.581157238414969\n",
      "8.581157238414969 8.546384600795427\n"
     ]
    }
   ],
   "source": [
    "import random\n",
    "\n",
    "x = random.uniform(0,10)\n",
    "y = random.uniform(0,10)\n",
    "print(x,y)\n",
    "x,y = y,x\n",
    "print(x,y)"
   ]
  },
  {
   "cell_type": "code",
   "execution_count": 14,
   "metadata": {},
   "outputs": [
    {
     "name": "stdout",
     "output_type": "stream",
     "text": [
      "              \n",
      "            * \n",
      "          * * * \n",
      "        * * * * * \n",
      "      * * * * * * * \n",
      "        * * * * * \n",
      "          * * * \n",
      "            * \n",
      "              \n",
      "-------------------------\n"
     ]
    }
   ],
   "source": [
    "for i in range(5):\n",
    "    for j in range(1, 8-i):\n",
    "        print(end=\"  \")\n",
    "    for k in range(1, i*2):\n",
    "        print(\"*\", end=\" \")\n",
    "    print(\"\")\n",
    "    \n",
    "for i in range(4):\n",
    "    for j in range(1, i+5):\n",
    "        print(end=\"  \")\n",
    "    for k in range(1, 6-i*2):\n",
    "        print(\"*\", end=\" \")\n",
    "    print(\"\")    \n",
    "\n",
    "print(\"-------------------------\")"
   ]
  },
  {
   "cell_type": "code",
   "execution_count": 15,
   "metadata": {},
   "outputs": [
    {
     "name": "stdout",
     "output_type": "stream",
     "text": [
      "123456\n",
      "\n",
      "234561\n",
      "\n",
      "345612\n",
      "\n",
      "456123\n",
      "\n",
      "561234\n",
      "\n",
      "612345\n",
      "\n"
     ]
    }
   ],
   "source": [
    "for i in range(1,7):\n",
    "   for j in range(i,7):\n",
    "     print(j,end=\"\") \n",
    "     \n",
    "   for k in range(1,i):  \n",
    "     print(k,end=\"\")\n",
    "   print(\"\\n\")\n"
   ]
  },
  {
   "cell_type": "code",
   "execution_count": 42,
   "metadata": {},
   "outputs": [
    {
     "name": "stdout",
     "output_type": "stream",
     "text": [
      "Charles Martina Michael Florence Eli\n",
      "Martina Michael Florence\n",
      "Charles Martina\n",
      "Michael Florence Eli\n",
      "Michael Florence\n"
     ]
    }
   ],
   "source": [
    "players = ['charles','martina','michael','florence','eli']\n",
    "players_new = []\n",
    "\n",
    "for p in players:\n",
    "     p = p.title()\n",
    "     players_new.append(p)\n",
    " \n",
    "print(\" \".join(players_new))\n",
    "print(\" \".join(players_new[1:4]))\n",
    "print(\" \".join(players_new[:2]))\n",
    "print(\" \".join(players_new[2:]))\n",
    "print(\" \".join(players_new[-3:-1]))"
   ]
  },
  {
   "cell_type": "code",
   "execution_count": null,
   "metadata": {},
   "outputs": [],
   "source": []
  }
 ],
 "metadata": {
  "kernelspec": {
   "display_name": "Python 3",
   "language": "python",
   "name": "python3"
  },
  "language_info": {
   "codemirror_mode": {
    "name": "ipython",
    "version": 3
   },
   "file_extension": ".py",
   "mimetype": "text/x-python",
   "name": "python",
   "nbconvert_exporter": "python",
   "pygments_lexer": "ipython3",
   "version": "3.6.5"
  }
 },
 "nbformat": 4,
 "nbformat_minor": 2
}
